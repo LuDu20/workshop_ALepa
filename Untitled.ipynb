{
 "cells": [
  {
   "cell_type": "code",
   "execution_count": null,
   "id": "6e6abd45",
   "metadata": {},
   "outputs": [],
   "source": [
    "<p style=\"color:#206592 ;font-size:16pt; font-family:sans-serif\"><b>Aufgabe - Schiefer Wurf II</b> </p>\n",
    "<p style=\"color:#206592 ;font-size:10pt; font-family:sans-serif\">Berechnen Sie $\\alpha$ und die Anfangsgeschwindigkeit $v_0$ anhand des interaktiven Diagramms.</p>"
   ]
  },
  {
   "cell_type": "code",
   "execution_count": null,
   "id": "49ad9e03",
   "metadata": {},
   "outputs": [],
   "source": [
    "from ipywidgets import interact, widgets\n",
    "from wurf_plot import wurf_plot, ti\n",
    "interact(wurf_plot, ti=ti)"
   ]
  },
  {
   "cell_type": "markdown",
   "id": "90b7e397",
   "metadata": {},
   "source": [
    "**Vorgehensweise**\n",
    "\n",
    "1. An welchen Punkten werden die Gleichungen $s_y(t) = v_0\\cdot\\sin\\alpha\\cdot t - \\frac{1}{2}g\\cdot t^2 + s_0$ und $v_y(t) = v_0\\cdot\\sin\\alpha + g\\cdot t$ vereinfacht?"
   ]
  },
  {
   "cell_type": "code",
   "execution_count": null,
   "id": "dbbfd6fd",
   "metadata": {},
   "outputs": [],
   "source": [
    "**Lösung:**\n",
    "\n",
    "Am höchsten Punkt mit $v_y(t) = 0$ und genau vor der Kollision mit dem Boden mit $s_y(t)=0$."
   ]
  },
  {
   "cell_type": "code",
   "execution_count": null,
   "id": "5418c7e0",
   "metadata": {},
   "outputs": [],
   "source": [
    "2. Berechnen Sie $v_0$ und $\\alpha$ in einem der Punkte, in denen die Gleichungen vereinfachen, Sie können die benötigten Werte für Ihre Berechnung im interaktiven Diagramm ablesen."
   ]
  },
  {
   "cell_type": "code",
   "execution_count": null,
   "id": "77e1766e",
   "metadata": {},
   "outputs": [],
   "source": [
    "**Lösung:**  \n",
    "**i)** Am höchsten Punkt mit $v_y(t) = 0$\n",
    "$$s_x(t) = v_0\\cdot\\cos\\alpha\\cdot t \\qquad \\Rightarrow \\qquad v_0 = \\frac{s_x}{\\cos\\alpha\\cdot t}$$\n",
    "\n",
    "$$ 0 = v_y(t)=  v_0\\cdot\\sin\\alpha - g\\cdot t  \\qquad \\Rightarrow \\qquad  g\\cdot t = v_0\\cdot\\sin\\alpha$$\n",
    "\n",
    "**ii)** Am Ende mit $s_y(t) = 0$\n",
    "$$s_x(t) = v_0\\cdot\\cos\\alpha\\cdot t \\qquad \\Rightarrow \\qquad v_0 = \\frac{s_x}{\\cos\\alpha\\cdot t}$$\n",
    "\n",
    "$$ 0 = s_y(t)=  v_0\\cdot\\sin\\alpha\\cdot t - \\frac{1}{2}g\\cdot t  \\qquad \\Rightarrow \\qquad \\frac{1}{2}g\\cdot t = v_0\\cdot\\sin\\alpha$$"
   ]
  },
  {
   "cell_type": "code",
   "execution_count": null,
   "id": "4ddfe4b9",
   "metadata": {},
   "outputs": [],
   "source": []
  },
  {
   "cell_type": "code",
   "execution_count": null,
   "id": "2f92cef6",
   "metadata": {},
   "outputs": [],
   "source": [
    "# Am höchsten Punkt \n",
    "t = 1.08  # in s\n",
    "x = 12    # in m\n",
    "g = 9.81  # in m/s²\n",
    "# Berechnung\n",
    "alpha = np.arctan(g*t**2/x)\n",
    "v0 =x/(np.cos(alpha)*t)\n",
    "\n",
    "print(\"Der Winkel beträgt %.2f rad.\" % alpha)\n",
    "print(\"Die Anfangsgeschwindigkeit beträgt %.2f m/s.\" % v0)\n",
    "\n",
    "# Am Ende\n",
    "t = 2.16   # in s\n",
    "x = 23     # in m\n",
    "g = 9.81   # in m/s²\n",
    "# Berechnung\n",
    "alpha = np.arctan(1/2*g*t**2/x)\n",
    "v0 =x/(np.cos(alpha)*t)\n",
    "\n",
    "print(\"Der Winkel beträgt %.2f rad.\" % alpha)\n",
    "print(\"Die Anfangsgeschwindigkeit beträgt %.2f m/s.\" % v0)"
   ]
  },
  {
   "cell_type": "code",
   "execution_count": null,
   "id": "610bdd27",
   "metadata": {},
   "outputs": [],
   "source": []
  }
 ],
 "metadata": {
  "kernelspec": {
   "display_name": "Python 3 (ipykernel)",
   "language": "python",
   "name": "python3"
  },
  "language_info": {
   "codemirror_mode": {
    "name": "ipython",
    "version": 3
   },
   "file_extension": ".py",
   "mimetype": "text/x-python",
   "name": "python",
   "nbconvert_exporter": "python",
   "pygments_lexer": "ipython3",
   "version": "3.9.7"
  }
 },
 "nbformat": 4,
 "nbformat_minor": 5
}
